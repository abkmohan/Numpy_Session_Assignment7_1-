{
 "cells": [
  {
   "cell_type": "code",
   "execution_count": 9,
   "metadata": {},
   "outputs": [
    {
     "name": "stdout",
     "output_type": "stream",
     "text": [
      "\n",
      "Approach 1 Output:\n",
      "\n",
      "[5.0, 4.666666666666667, 5.666666666666667, 6.666666666666667, 9.666666666666666, 28.666666666666668, 49.333333333333336, 72.66666666666667, 84.0, 93.33333333333333, 116.33333333333333]\n",
      "\n",
      "Approach 2 Output:\n",
      "\n",
      "[   5.            4.66666667    5.66666667    6.66666667    9.66666667\n",
      "   28.66666667   49.33333333   72.66666667   84.           93.33333333\n",
      "  116.33333333]\n"
     ]
    }
   ],
   "source": [
    "#Course: Data Science Masters\n",
    "#Title: Python - Assignment 7.1\n",
    "#Problem Statement: Given a sequence of n values x1, x2, ..., xn and a window size k>0, the k-th moving\n",
    "#                   average of the given sequence.                   \n",
    "#Tool: Jupyter notebook \n",
    "#Author: Krishna A\n",
    "#Date: 09-03-2018 (DD/MM/YYYY)\n",
    "\n",
    "import numpy as np\n",
    "\n",
    "# APPROACH 1\n",
    "def movingAverage(aNum, nWindow):\n",
    "    cumsum, moving_aves = [0], []\n",
    "    for i, x in enumerate(aNum, 1):\n",
    "        cumsum.append(cumsum[i-1] + x)\n",
    "        if i>=nWindow:\n",
    "            moving_ave = (cumsum[i] - cumsum[i-nWindow])/nWindow\n",
    "            #can do stuff with moving_ave here\n",
    "            moving_aves.append(moving_ave)\n",
    "    return moving_aves\n",
    "\n",
    "a1 = [3, 5, 7, 2, 8, 10, 11, 65, 72, 81, 99, 100, 150]\n",
    "aResult = movingAverage(a1, 3)\n",
    "\n",
    "print(\"\\nApproach 1 Output:\\n\")\n",
    "print(aResult)\n",
    "\n",
    "# APPROACH 2\n",
    "#numpy method\n",
    "print(\"\\nApproach 2 Output:\\n\")\n",
    "print(np.convolve(a1, np.ones((3,))/3, mode='valid'))"
   ]
  },
  {
   "cell_type": "code",
   "execution_count": null,
   "metadata": {
    "collapsed": true
   },
   "outputs": [],
   "source": []
  }
 ],
 "metadata": {
  "kernelspec": {
   "display_name": "Python 3",
   "language": "python",
   "name": "python3"
  },
  "language_info": {
   "codemirror_mode": {
    "name": "ipython",
    "version": 3
   },
   "file_extension": ".py",
   "mimetype": "text/x-python",
   "name": "python",
   "nbconvert_exporter": "python",
   "pygments_lexer": "ipython3",
   "version": "3.6.3"
  }
 },
 "nbformat": 4,
 "nbformat_minor": 2
}
